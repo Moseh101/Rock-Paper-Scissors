{
 "cells": [
  {
   "cell_type": "code",
   "execution_count": null,
   "metadata": {},
   "outputs": [],
   "source": [
    "import random\n",
    "\n",
    "while True:\n",
    "    player_action = input(\"Rock Paper Scissors:\")\n",
    "    possible_action = ['Rock','Paper','Scissors']\n",
    "    computer = random.choice(possible_action)\n",
    "    print(f\"\\n you chose{player_action},computer_choice {computer}.\\n\")\n",
    "    if player_action == computer:\n",
    "        print(f\"you both chose {player_action}.it's a draw!\")\n",
    "    elif player_action == \"Rock\":\n",
    "        if computer == \"Scissors\":\n",
    "            print (\"Rock smashes scissors! you win!\")\n",
    "        else:\n",
    "            print(\"paper covers rock! you lose!\")\n",
    "    elif player_action == \"Paper\":\n",
    "        if computer == \"Rock\":\n",
    "           print(\"paper covers rock! you win!\")\n",
    "        else:\n",
    "           print(\"scissors cuts paper! you lose!\")\n",
    "    elif player_action == \"Scissors\":\n",
    "        if computer == \"paper\":\n",
    "           print(\"scissors cuts paper!you win!\")\n",
    "        else:\n",
    "           print(\"rock smashes scissors! you lose!\")\n",
    "player_again = input(\"play again!(y/n):\")\n",
    "if play_again.lower()!=\"y\":\n",
    "    break"
   ]
  }
 ],
 "metadata": {
  "language_info": {
   "name": "python"
  }
 },
 "nbformat": 4,
 "nbformat_minor": 2
}
